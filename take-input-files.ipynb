{
 "cells": [
  {
   "cell_type": "code",
   "execution_count": 3,
   "id": "2cc7d9d1",
   "metadata": {},
   "outputs": [
    {
     "name": "stdout",
     "output_type": "stream",
     "text": [
      "Upload your files here:\n"
     ]
    },
    {
     "data": {
      "application/vnd.jupyter.widget-view+json": {
       "model_id": "2a1a0f6968534ae396fba1f5399dadaf",
       "version_major": 2,
       "version_minor": 0
      },
      "text/plain": [
       "FileUpload(value=(), description='Upload', multiple=True)"
      ]
     },
     "metadata": {},
     "output_type": "display_data"
    }
   ],
   "source": [
    "import ipywidgets as widgets\n",
    "import os\n",
    "\n",
    "upload = widgets.FileUpload(multiple=True)\n",
    "print(\"Upload your files here:\")\n",
    "display(upload)"
   ]
  },
  {
   "cell_type": "code",
   "execution_count": 2,
   "id": "db319770",
   "metadata": {},
   "outputs": [],
   "source": [
    "for item in upload.value:\n",
    "    with open(item['name'], \"wb\") as fp:\n",
    "        fp.write(item['content'])"
   ]
  },
  {
   "cell_type": "code",
   "execution_count": null,
   "id": "b62dc035",
   "metadata": {},
   "outputs": [],
   "source": []
  }
 ],
 "metadata": {
  "kernelspec": {
   "display_name": "Python 3 (ipykernel)",
   "language": "python",
   "name": "python3"
  },
  "language_info": {
   "codemirror_mode": {
    "name": "ipython",
    "version": 3
   },
   "file_extension": ".py",
   "mimetype": "text/x-python",
   "name": "python",
   "nbconvert_exporter": "python",
   "pygments_lexer": "ipython3",
   "version": "3.11.0"
  }
 },
 "nbformat": 4,
 "nbformat_minor": 5
}
