{
 "cells": [
  {
   "cell_type": "code",
   "execution_count": 3,
   "id": "2cc7d9d1",
   "metadata": {},
   "outputs": [
    {
     "name": "stdout",
     "output_type": "stream",
     "text": [
      "Upload your files here:\n"
     ]
    },
    {
     "data": {
      "application/vnd.jupyter.widget-view+json": {
       "model_id": "",
       "version_major": 2,
       "version_minor": 0
      },
      "text/plain": [
       "FileUpload(value=(), description='Upload', multiple=True)"
      ]
     },
     "metadata": {},
     "output_type": "display_data"
    },
    {
     "name": "stdout",
     "output_type": "stream",
     "text": [
      "What do you want to name your fine-tuned model?yelpReviews\n"
     ]
    }
   ],
   "source": [
    "import ipywidgets as widgets\n",
    "import os\n",
    "\n",
    "upload = widgets.FileUpload(multiple=True)\n",
    "print(\"Upload your files here:\")\n",
    "\n",
    "display(upload)\n",
    "modelName = input(\"What do you want to name your fine-tuned model?\")"
   ]
  },
  {
   "cell_type": "code",
   "execution_count": 4,
   "id": "b62dc035",
   "metadata": {},
   "outputs": [],
   "source": [
    "# Specify the directory where you want to save the files\n",
    "saveDirectory = \"/mounts/layout/palm/inputfiles/\"\n",
    "modelDir = os.path.join(saveDirectory, modelName)\n",
    "os.mkdir(modelDir)\n",
    "\n",
    "for item in upload.value: \n",
    "    filePath = os.path.join(modelDir, item['name'])\n",
    "    with open(filePath, \"wb\") as fp:\n",
    "        fp.write(item['content'])"
   ]
  },
  {
   "cell_type": "code",
   "execution_count": null,
   "id": "e1121049",
   "metadata": {},
   "outputs": [],
   "source": []
  }
 ],
 "metadata": {
  "kernelspec": {
   "display_name": "Python 3 (ipykernel)",
   "language": "python",
   "name": "python3"
  },
  "language_info": {
   "codemirror_mode": {
    "name": "ipython",
    "version": 3
   },
   "file_extension": ".py",
   "mimetype": "text/x-python",
   "name": "python",
   "nbconvert_exporter": "python",
   "pygments_lexer": "ipython3",
   "version": "3.11.0"
  }
 },
 "nbformat": 4,
 "nbformat_minor": 5
}
