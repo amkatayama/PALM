{
 "cells": [
  {
   "cell_type": "code",
   "execution_count": 7,
   "id": "04b562e6",
   "metadata": {},
   "outputs": [
    {
     "name": "stdout",
     "output_type": "stream",
     "text": [
      "This is the list of all fine-tuned models: \n",
      "\n",
      "baseModel\n",
      "\n",
      "Which model do you want to ask quesions to? baseModel\n",
      "Do you want to continue the previous search (if there was one)? (yes/no) no\n",
      "Ask Palm any and every question you have: why is the sky blue?\n"
     ]
    }
   ],
   "source": [
    "import os\n",
    "import requests\n",
    "\n",
    "modelsPath = \"/mounts/layout/palm/fineTunedModel/content.txt\"\n",
    "\n",
    "f = open(modelsPath, \"r\")\n",
    "modelsFile = f.read()\n",
    "print(\"This is the list of all fine-tuned models: \\n\")\n",
    "print(modelsFile)\n",
    "whichModel = input(\"Which model do you want to ask quesions to? \")\n",
    "\n",
    "QandApath = \"/mounts/layout/palm/QandA/model.txt\"\n",
    "f = open(QandApath, \"w\")\n",
    "f.write(whichModel)\n",
    "f.close()\n",
    "\n",
    "saveDirectory = \"/mounts/layout/palm/QandA\"\n",
    "queryName = \"query.txt\"\n",
    "queryPath = os.path.join(saveDirectory, queryName)\n",
    "\n",
    "wantToContinue = input(\"Do you want to continue the previous search (if there was one)? (yes/no) \")\n",
    "if wantToContinue == \"no\" or wantToContinue == \"No\":\n",
    "    os.remove(saveDirectory + \"answer.txt\")\n",
    "    f = open(queryPath, \"w\")\n",
    "    f.write(input(\"Ask Palm any and every question you have: \"))\n",
    "    f.write(\"\\n\")\n",
    "    f.close()\n",
    "    requests.get(\"http://192.168.3.103:6543/runQuery\")\n",
    "    \n",
    "elif wantToContinue == \"yes\" or wantToContinue == \"Yes\":\n",
    "    f = open(queryPath, \"a\")\n",
    "    f.write(input(\"Ask Palm any and every question you have: \"))\n",
    "    f.write(\"\\n\")\n",
    "    f.close()\n",
    "    requests.get(\"http://192.168.3.103:6543/runQuery\")\n",
    "    \n",
    "else:\n",
    "    print(\"Brother, what are you even saying?\") "
   ]
  },
  {
   "cell_type": "code",
   "execution_count": 11,
   "id": "696ddaba",
   "metadata": {
    "scrolled": true
   },
   "outputs": [
    {
     "name": "stdout",
     "output_type": "stream",
     "text": [
      "Palm's Answer:\n",
      " why is the sky blue?\n",
      "It is blue because of\n",
      "lightning in the\n",
      "atmosphere.\n",
      "Oh, so, there are,\n",
      "you know, as\n",
      "we go from the\n",
      "atmospheric layers,\n",
      "at the top, which is\n",
      "filled with the\n",
      "oxygen and the nitrogen,\n",
      "we see these different gases.\n",
      "And, and, the oxygen is\n",
      "emitted by plants,\n",
      "and the nitrogen by\n",
      "animals.\n",
      "And, and as they are going\n",
      "up into higher and\n",
      "higher regions of\n",
      "the atmosphere,\n",
      "there's more and more nitrogen\n",
      "and oxygen.\n",
      "So, up there, things are all\n",
      "the same as up here.\n",
      "It's just that up here, we have\n",
      "less oxygen.\n",
      "The reason why we have less\n",
      "oxygen up here is because\n",
      "most of it is absorbed by\n",
      "water molecules.\n",
      "They are all the same, but\n",
      "the water carries more that one\n",
      "water molecule.\n",
      "So, up here, we are mostly\n",
      "dealing with that one\n",
      "water molecule.\n",
      "The oxygen has a strong\n",
      "pull, and the nitrogen\n",
      "has a very weak pull to the\n",
      "water molecule.\n",
      "And, so, it is this\n",
      "that's causing\n",
      "lightning to be blue, you\n",
      "know, this makes it\n",
      "blue.\n",
      "Now, remember, when, you know,\n",
      "that, you know, if you think\n",
      "about the spectrum of light,\n",
      "you\n"
     ]
    }
   ],
   "source": [
    "file_path = \"/mounts/layout/palm/QandA/answer.txt\"\n",
    "\n",
    "if os.path.exists(file_path):\n",
    "    try:\n",
    "        fd = os.open(file_path, os.O_RDONLY)\n",
    "        data = os.read(fd, os.path.getsize(file_path))\n",
    "        print(\"Palm's Answer:\\n\", data.decode())\n",
    "    except BlockingIOError:\n",
    "        print(\"Palm is currently generating the answer. Waiting...\")\n",
    "        os.lockf(fd, os.F_LOCK, 0)\n",
    "        data = os.read(fd, os.path.getsize(file_path))\n",
    "        print(\"Palm's Answer:\\n\", data.decode())\n",
    "    finally:\n",
    "        os.lockf(fd, os.F_ULOCK, 0)\n",
    "        os.close(fd)\n",
    "else:\n",
    "    print(\"Provide the input files and let the model be fine-tuned first.\")"
   ]
  },
  {
   "cell_type": "code",
   "execution_count": null,
   "id": "d9e2e26a",
   "metadata": {},
   "outputs": [],
   "source": []
  }
 ],
 "metadata": {
  "kernelspec": {
   "display_name": "Python 3 (ipykernel)",
   "language": "python",
   "name": "python3"
  },
  "language_info": {
   "codemirror_mode": {
    "name": "ipython",
    "version": 3
   },
   "file_extension": ".py",
   "mimetype": "text/x-python",
   "name": "python",
   "nbconvert_exporter": "python",
   "pygments_lexer": "ipython3",
   "version": "3.11.0"
  }
 },
 "nbformat": 4,
 "nbformat_minor": 5
}
